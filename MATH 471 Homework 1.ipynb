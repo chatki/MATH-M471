{
 "cells": [
  {
   "cell_type": "markdown",
   "metadata": {},
   "source": [
    "**Student Name**: Christopher Atkins"
   ]
  },
  {
   "cell_type": "code",
   "execution_count": 2,
   "metadata": {},
   "outputs": [],
   "source": [
    "function bisect(f; a, b, ϵ = 1e-20, N₀=1000)\n",
    "    i = 1\n",
    "    FA = f(a)\n",
    "    @assert sign(FA) ≠ sign(f(b)) \"There is no root between $(a) and $(b).\"\n",
    "    while i ≤ N₀\n",
    "        p = a + (b-a)/2\n",
    "        FP = f(p)\n",
    "        if FP == 0 \n",
    "            return Dict(\"exact root\" => p, \"iterations\" => i)\n",
    "        elseif (b-a)/2 < ϵ\n",
    "            return Dict(\"approximation\" => p, \"iterations\" => i)\n",
    "        end\n",
    "        i += 1\n",
    "        if sign(FA) == sign(FP)\n",
    "            a = p\n",
    "            FA = FP\n",
    "        else\n",
    "            b = p\n",
    "        end\n",
    "    end\n",
    "    throw(\"Method failed after $(N₀) iterations\")\n",
    "end;"
   ]
  },
  {
   "cell_type": "markdown",
   "metadata": {},
   "source": [
    "##### Problem 5a: We can approximate √5 by using the bisection method to find the (real) root of x² - 5."
   ]
  },
  {
   "cell_type": "code",
   "execution_count": 3,
   "metadata": {},
   "outputs": [
    {
     "data": {
      "text/latex": [
       "$\\sqrt{5} \\approx $2.23602294921875"
      ],
      "text/plain": [
       "L\"$\\sqrt{5} \\approx $2.23602294921875\""
      ]
     },
     "execution_count": 3,
     "metadata": {},
     "output_type": "execute_result"
    }
   ],
   "source": [
    "prob5a = bisect(a = 2, b = 3, ϵ = 1e-4, N₀ = 1000) do x\n",
    "    x^2 - 5\n",
    "end\n",
    "\n",
    "using LaTeXStrings\n",
    "\n",
    "latexstring(L\"\\sqrt{5} \\approx \", prob5a[\"approximation\"])"
   ]
  },
  {
   "cell_type": "code",
   "execution_count": 4,
   "metadata": {},
   "outputs": [
    {
     "data": {
      "text/plain": [
       "14"
      ]
     },
     "execution_count": 4,
     "metadata": {},
     "output_type": "execute_result"
    }
   ],
   "source": [
    "prob5a[\"iterations\"]"
   ]
  },
  {
   "cell_type": "markdown",
   "metadata": {},
   "source": [
    "##### Problem 5b: Determining Population Growth Parameter"
   ]
  },
  {
   "cell_type": "code",
   "execution_count": 3,
   "metadata": {},
   "outputs": [
    {
     "data": {
      "text/latex": [
       "$\\lambda \\approx$0.10099821090698244"
      ],
      "text/plain": [
       "L\"$\\lambda \\approx$0.10099821090698244\""
      ]
     },
     "execution_count": 3,
     "metadata": {},
     "output_type": "execute_result"
    }
   ],
   "source": [
    "prob5b = bisect(a = 0.1, b = 1, ϵ = 1e-6) do λ\n",
    "    (1e6 * ℯ^λ + 435000/λ * (ℯ^λ - 1)) - 1.564e6\n",
    "end\n",
    "\n",
    "latexstring(L\"\\lambda \\approx\", prob5b[\"approximation\"])"
   ]
  }
 ],
 "metadata": {
  "@webio": {
   "lastCommId": null,
   "lastKernelId": null
  },
  "kernelspec": {
   "display_name": "Julia 1.4.2",
   "language": "julia",
   "name": "julia-1.4"
  },
  "language_info": {
   "file_extension": ".jl",
   "mimetype": "application/julia",
   "name": "julia",
   "version": "1.4.2"
  }
 },
 "nbformat": 4,
 "nbformat_minor": 4
}
